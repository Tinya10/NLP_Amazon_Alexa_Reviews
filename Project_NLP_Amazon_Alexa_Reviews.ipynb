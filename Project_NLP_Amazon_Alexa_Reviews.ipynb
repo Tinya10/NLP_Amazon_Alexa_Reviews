{
  "nbformat": 4,
  "nbformat_minor": 0,
  "metadata": {
    "colab": {
      "name": "Untitled2.ipynb",
      "provenance": [],
      "collapsed_sections": []
    },
    "kernelspec": {
      "name": "python3",
      "display_name": "Python 3"
    },
    "language_info": {
      "name": "python"
    }
  },
  "cells": [
    {
      "cell_type": "code",
      "metadata": {
        "colab": {
          "base_uri": "https://localhost:8080/"
        },
        "id": "SD7NLT0oS5pM",
        "outputId": "0e62896d-ef7b-410b-877b-12bba14676c9"
      },
      "source": [
        "# import packages\n",
        "\n",
        "import numpy as np\n",
        "import pandas as pd\n",
        "import seaborn as sns\n",
        "import matplotlib.pyplot as plt\n",
        "import re\n",
        "import nltk\n",
        "from nltk.corpus import stopwords\n",
        "from nltk.stem.porter import PorterStemmer\n",
        "from sklearn.feature_extraction.text import CountVectorizer\n",
        "from sklearn.model_selection import train_test_split\n",
        "from sklearn.ensemble import RandomForestClassifier\n",
        "from sklearn.metrics import accuracy_score, precision_score, recall_score, confusion_matrix, f1_score\n",
        "from imblearn.over_sampling import SMOTE\n",
        "\n",
        "import warnings\n",
        "warnings.filterwarnings(\"ignore\")"
      ],
      "execution_count": 1,
      "outputs": [
        {
          "output_type": "stream",
          "text": [
            "/usr/local/lib/python3.7/dist-packages/sklearn/externals/six.py:31: FutureWarning: The module is deprecated in version 0.21 and will be removed in version 0.23 since we've dropped support for Python 2.7. Please rely on the official version of six (https://pypi.org/project/six/).\n",
            "  \"(https://pypi.org/project/six/).\", FutureWarning)\n",
            "/usr/local/lib/python3.7/dist-packages/sklearn/utils/deprecation.py:144: FutureWarning: The sklearn.neighbors.base module is  deprecated in version 0.22 and will be removed in version 0.24. The corresponding classes / functions should instead be imported from sklearn.neighbors. Anything that cannot be imported from sklearn.neighbors is now part of the private API.\n",
            "  warnings.warn(message, FutureWarning)\n"
          ],
          "name": "stderr"
        }
      ]
    },
    {
      "cell_type": "code",
      "metadata": {
        "colab": {
          "base_uri": "https://localhost:8080/",
          "height": 359
        },
        "id": "AwfLgbHATuKJ",
        "outputId": "145ac428-5e3b-42e3-ae72-dee02156bceb"
      },
      "source": [
        "# load data\n",
        "\n",
        "df = pd.read_csv(\"train.csv\")\n",
        "df.head(10)"
      ],
      "execution_count": 2,
      "outputs": [
        {
          "output_type": "execute_result",
          "data": {
            "text/html": [
              "<div>\n",
              "<style scoped>\n",
              "    .dataframe tbody tr th:only-of-type {\n",
              "        vertical-align: middle;\n",
              "    }\n",
              "\n",
              "    .dataframe tbody tr th {\n",
              "        vertical-align: top;\n",
              "    }\n",
              "\n",
              "    .dataframe thead th {\n",
              "        text-align: right;\n",
              "    }\n",
              "</style>\n",
              "<table border=\"1\" class=\"dataframe\">\n",
              "  <thead>\n",
              "    <tr style=\"text-align: right;\">\n",
              "      <th></th>\n",
              "      <th>Id</th>\n",
              "      <th>rating</th>\n",
              "      <th>date</th>\n",
              "      <th>variation</th>\n",
              "      <th>verified_reviews</th>\n",
              "      <th>feedback</th>\n",
              "    </tr>\n",
              "  </thead>\n",
              "  <tbody>\n",
              "    <tr>\n",
              "      <th>0</th>\n",
              "      <td>1916</td>\n",
              "      <td>5</td>\n",
              "      <td>26-Jul-18</td>\n",
              "      <td>White  Plus</td>\n",
              "      <td>I love it. Use it mostly for the music huge re...</td>\n",
              "      <td>1</td>\n",
              "    </tr>\n",
              "    <tr>\n",
              "      <th>1</th>\n",
              "      <td>500</td>\n",
              "      <td>5</td>\n",
              "      <td>24-Jun-18</td>\n",
              "      <td>Black</td>\n",
              "      <td>There's really no dislike for Alexa( dot) I th...</td>\n",
              "      <td>1</td>\n",
              "    </tr>\n",
              "    <tr>\n",
              "      <th>2</th>\n",
              "      <td>2958</td>\n",
              "      <td>5</td>\n",
              "      <td>30-Jul-18</td>\n",
              "      <td>Black  Dot</td>\n",
              "      <td>I love searching the Alexa skill shop on the a...</td>\n",
              "      <td>1</td>\n",
              "    </tr>\n",
              "    <tr>\n",
              "      <th>3</th>\n",
              "      <td>1968</td>\n",
              "      <td>5</td>\n",
              "      <td>25-Jul-18</td>\n",
              "      <td>White  Plus</td>\n",
              "      <td>I love my Echo Plus and have cousins from Ital...</td>\n",
              "      <td>1</td>\n",
              "    </tr>\n",
              "    <tr>\n",
              "      <th>4</th>\n",
              "      <td>156</td>\n",
              "      <td>4</td>\n",
              "      <td>30-Jul-18</td>\n",
              "      <td>Charcoal Fabric</td>\n",
              "      <td>i have not found a way to access my echo thoro...</td>\n",
              "      <td>1</td>\n",
              "    </tr>\n",
              "    <tr>\n",
              "      <th>5</th>\n",
              "      <td>83</td>\n",
              "      <td>5</td>\n",
              "      <td>30-Jul-18</td>\n",
              "      <td>Heather Gray Fabric</td>\n",
              "      <td>I purchased an echo dot for my husband for Fat...</td>\n",
              "      <td>1</td>\n",
              "    </tr>\n",
              "    <tr>\n",
              "      <th>6</th>\n",
              "      <td>2973</td>\n",
              "      <td>4</td>\n",
              "      <td>30-Jul-18</td>\n",
              "      <td>Black  Dot</td>\n",
              "      <td>I'm amazed with the alarm. I tell Alexa to wak...</td>\n",
              "      <td>1</td>\n",
              "    </tr>\n",
              "    <tr>\n",
              "      <th>7</th>\n",
              "      <td>579</td>\n",
              "      <td>1</td>\n",
              "      <td>10-Jun-18</td>\n",
              "      <td>Black</td>\n",
              "      <td>great product, but useless overall. Too many u...</td>\n",
              "      <td>0</td>\n",
              "    </tr>\n",
              "    <tr>\n",
              "      <th>8</th>\n",
              "      <td>176</td>\n",
              "      <td>2</td>\n",
              "      <td>30-Jul-18</td>\n",
              "      <td>Heather Gray Fabric</td>\n",
              "      <td>Sad joke. Worthless.</td>\n",
              "      <td>0</td>\n",
              "    </tr>\n",
              "    <tr>\n",
              "      <th>9</th>\n",
              "      <td>1964</td>\n",
              "      <td>5</td>\n",
              "      <td>25-Jul-18</td>\n",
              "      <td>Black  Plus</td>\n",
              "      <td>This is a very useful device.  I use it to tur...</td>\n",
              "      <td>1</td>\n",
              "    </tr>\n",
              "  </tbody>\n",
              "</table>\n",
              "</div>"
            ],
            "text/plain": [
              "     Id  rating  ...                                   verified_reviews feedback\n",
              "0  1916       5  ...  I love it. Use it mostly for the music huge re...        1\n",
              "1   500       5  ...  There's really no dislike for Alexa( dot) I th...        1\n",
              "2  2958       5  ...  I love searching the Alexa skill shop on the a...        1\n",
              "3  1968       5  ...  I love my Echo Plus and have cousins from Ital...        1\n",
              "4   156       4  ...  i have not found a way to access my echo thoro...        1\n",
              "5    83       5  ...  I purchased an echo dot for my husband for Fat...        1\n",
              "6  2973       4  ...  I'm amazed with the alarm. I tell Alexa to wak...        1\n",
              "7   579       1  ...  great product, but useless overall. Too many u...        0\n",
              "8   176       2  ...                               Sad joke. Worthless.        0\n",
              "9  1964       5  ...  This is a very useful device.  I use it to tur...        1\n",
              "\n",
              "[10 rows x 6 columns]"
            ]
          },
          "metadata": {
            "tags": []
          },
          "execution_count": 2
        }
      ]
    },
    {
      "cell_type": "code",
      "metadata": {
        "id": "nq_tO6tuT0gf"
      },
      "source": [
        "# Converting date attribute from string to datetime.date datatype \n",
        "df['date'] = pd.to_datetime(df['date'])"
      ],
      "execution_count": 3,
      "outputs": []
    },
    {
      "cell_type": "code",
      "metadata": {
        "id": "wX6LjNSxT6-P"
      },
      "source": [
        "# calculate the total length of word\n",
        "df['length'] = df['verified_reviews'].apply(len)"
      ],
      "execution_count": 4,
      "outputs": []
    },
    {
      "cell_type": "code",
      "metadata": {
        "colab": {
          "base_uri": "https://localhost:8080/",
          "height": 359
        },
        "id": "rTK1bkZXUFdv",
        "outputId": "002d6af1-c61d-4930-8cf5-1999d4d089c3"
      },
      "source": [
        "df.head(10)"
      ],
      "execution_count": 5,
      "outputs": [
        {
          "output_type": "execute_result",
          "data": {
            "text/html": [
              "<div>\n",
              "<style scoped>\n",
              "    .dataframe tbody tr th:only-of-type {\n",
              "        vertical-align: middle;\n",
              "    }\n",
              "\n",
              "    .dataframe tbody tr th {\n",
              "        vertical-align: top;\n",
              "    }\n",
              "\n",
              "    .dataframe thead th {\n",
              "        text-align: right;\n",
              "    }\n",
              "</style>\n",
              "<table border=\"1\" class=\"dataframe\">\n",
              "  <thead>\n",
              "    <tr style=\"text-align: right;\">\n",
              "      <th></th>\n",
              "      <th>Id</th>\n",
              "      <th>rating</th>\n",
              "      <th>date</th>\n",
              "      <th>variation</th>\n",
              "      <th>verified_reviews</th>\n",
              "      <th>feedback</th>\n",
              "      <th>length</th>\n",
              "    </tr>\n",
              "  </thead>\n",
              "  <tbody>\n",
              "    <tr>\n",
              "      <th>0</th>\n",
              "      <td>1916</td>\n",
              "      <td>5</td>\n",
              "      <td>2018-07-26</td>\n",
              "      <td>White  Plus</td>\n",
              "      <td>I love it. Use it mostly for the music huge re...</td>\n",
              "      <td>1</td>\n",
              "      <td>69</td>\n",
              "    </tr>\n",
              "    <tr>\n",
              "      <th>1</th>\n",
              "      <td>500</td>\n",
              "      <td>5</td>\n",
              "      <td>2018-06-24</td>\n",
              "      <td>Black</td>\n",
              "      <td>There's really no dislike for Alexa( dot) I th...</td>\n",
              "      <td>1</td>\n",
              "      <td>169</td>\n",
              "    </tr>\n",
              "    <tr>\n",
              "      <th>2</th>\n",
              "      <td>2958</td>\n",
              "      <td>5</td>\n",
              "      <td>2018-07-30</td>\n",
              "      <td>Black  Dot</td>\n",
              "      <td>I love searching the Alexa skill shop on the a...</td>\n",
              "      <td>1</td>\n",
              "      <td>255</td>\n",
              "    </tr>\n",
              "    <tr>\n",
              "      <th>3</th>\n",
              "      <td>1968</td>\n",
              "      <td>5</td>\n",
              "      <td>2018-07-25</td>\n",
              "      <td>White  Plus</td>\n",
              "      <td>I love my Echo Plus and have cousins from Ital...</td>\n",
              "      <td>1</td>\n",
              "      <td>190</td>\n",
              "    </tr>\n",
              "    <tr>\n",
              "      <th>4</th>\n",
              "      <td>156</td>\n",
              "      <td>4</td>\n",
              "      <td>2018-07-30</td>\n",
              "      <td>Charcoal Fabric</td>\n",
              "      <td>i have not found a way to access my echo thoro...</td>\n",
              "      <td>1</td>\n",
              "      <td>522</td>\n",
              "    </tr>\n",
              "    <tr>\n",
              "      <th>5</th>\n",
              "      <td>83</td>\n",
              "      <td>5</td>\n",
              "      <td>2018-07-30</td>\n",
              "      <td>Heather Gray Fabric</td>\n",
              "      <td>I purchased an echo dot for my husband for Fat...</td>\n",
              "      <td>1</td>\n",
              "      <td>185</td>\n",
              "    </tr>\n",
              "    <tr>\n",
              "      <th>6</th>\n",
              "      <td>2973</td>\n",
              "      <td>4</td>\n",
              "      <td>2018-07-30</td>\n",
              "      <td>Black  Dot</td>\n",
              "      <td>I'm amazed with the alarm. I tell Alexa to wak...</td>\n",
              "      <td>1</td>\n",
              "      <td>309</td>\n",
              "    </tr>\n",
              "    <tr>\n",
              "      <th>7</th>\n",
              "      <td>579</td>\n",
              "      <td>1</td>\n",
              "      <td>2018-06-10</td>\n",
              "      <td>Black</td>\n",
              "      <td>great product, but useless overall. Too many u...</td>\n",
              "      <td>0</td>\n",
              "      <td>113</td>\n",
              "    </tr>\n",
              "    <tr>\n",
              "      <th>8</th>\n",
              "      <td>176</td>\n",
              "      <td>2</td>\n",
              "      <td>2018-07-30</td>\n",
              "      <td>Heather Gray Fabric</td>\n",
              "      <td>Sad joke. Worthless.</td>\n",
              "      <td>0</td>\n",
              "      <td>20</td>\n",
              "    </tr>\n",
              "    <tr>\n",
              "      <th>9</th>\n",
              "      <td>1964</td>\n",
              "      <td>5</td>\n",
              "      <td>2018-07-25</td>\n",
              "      <td>Black  Plus</td>\n",
              "      <td>This is a very useful device.  I use it to tur...</td>\n",
              "      <td>1</td>\n",
              "      <td>318</td>\n",
              "    </tr>\n",
              "  </tbody>\n",
              "</table>\n",
              "</div>"
            ],
            "text/plain": [
              "     Id  rating  ... feedback length\n",
              "0  1916       5  ...        1     69\n",
              "1   500       5  ...        1    169\n",
              "2  2958       5  ...        1    255\n",
              "3  1968       5  ...        1    190\n",
              "4   156       4  ...        1    522\n",
              "5    83       5  ...        1    185\n",
              "6  2973       4  ...        1    309\n",
              "7   579       1  ...        0    113\n",
              "8   176       2  ...        0     20\n",
              "9  1964       5  ...        1    318\n",
              "\n",
              "[10 rows x 7 columns]"
            ]
          },
          "metadata": {
            "tags": []
          },
          "execution_count": 5
        }
      ]
    },
    {
      "cell_type": "code",
      "metadata": {
        "colab": {
          "base_uri": "https://localhost:8080/",
          "height": 411
        },
        "id": "McY8_BZsUT0W",
        "outputId": "9cf6a6b9-bedc-4ae5-b5c1-9e0405316ad8"
      },
      "source": [
        "#Visualizing the data\n",
        "# Rating vs feedback\n",
        "\n",
        "# set figure size\n",
        "plt.figure(figsize=(15,7))\n",
        "\n",
        "# generate countplot\n",
        "sns.countplot(x=\"rating\", hue=\"feedback\", data=df)\n",
        "\n",
        "# display plot\n",
        "plt.show()"
      ],
      "execution_count": 6,
      "outputs": [
        {
          "output_type": "display_data",
          "data": {
            "image/png": "[encoded data removed]",
            "text/plain": [
              "<Figure size 1080x504 with 1 Axes>"
            ]
          },
          "metadata": {
            "tags": [],
            "needs_background": "light"
          }
        }
      ]
    },
    {
      "cell_type": "code",
      "metadata": {
        "colab": {
          "base_uri": "https://localhost:8080/",
          "height": 368
        },
        "id": "nwivSwbFU_WB",
        "outputId": "d14b3499-1db1-45db-8c79-962b7dfc4b61"
      },
      "source": [
        "# Variation rating vs feedback\n",
        "\n",
        "# set figure size\n",
        "plt.figure(figsize=(15,7))\n",
        "\n",
        "# generate barplot\n",
        "sns.barplot(x=\"rating\", y=\"variation\", hue=\"feedback\", data=df, ci = None)\n",
        "\n",
        "# display plot\n",
        "plt.show()"
      ],
      "execution_count": 7,
      "outputs": [
        {
          "output_type": "display_data",
          "data": {
            "image/png": "[encoded data removed]",
            "text/plain": [
              "<Figure size 1080x504 with 1 Axes>"
            ]
          },
          "metadata": {
            "tags": [],
            "needs_background": "light"
          }
        }
      ]
    },
    {
      "cell_type": "code",
      "metadata": {
        "colab": {
          "base_uri": "https://localhost:8080/"
        },
        "id": "Ih-QDA-DVd99",
        "outputId": "ea7f78f4-a46c-4f1a-cf8b-fd6dbea7eabd"
      },
      "source": [
        "nltk.download('stopwords')\n",
        "import re\n",
        "import nltk\n",
        "from nltk.corpus import stopwords\n",
        "from nltk.stem.porter import PorterStemmer\n",
        "\n",
        "# declare empty list 'corpus'\n",
        "corpus=[]\n",
        "\n",
        "# for loop to fill in corpus\n",
        "for i in range(0,2520):\n",
        "    # retain alphabets\n",
        "    review = re.sub('[^a-zA-Z]', ' ', df['verified_reviews'][i] )\n",
        "    # convert to lower case\n",
        "    review=review.lower()\n",
        "    # tokenize\n",
        "    review=review.split()\n",
        "    # initialize stemmer object\n",
        "    ps=PorterStemmer()\n",
        "    # perform stemming\n",
        "    review=[ps.stem(word) for word in review if not word in set(stopwords.words('english'))]\n",
        "    # join elements of list\n",
        "    review=' '.join(review)\n",
        "    # add to 'corpus'\n",
        "    corpus.append(review)\n",
        "\n",
        "\n"
      ],
      "execution_count": 10,
      "outputs": [
        {
          "output_type": "stream",
          "text": [
            "[nltk_data] Downloading package stopwords to /root/nltk_data...\n",
            "[nltk_data]   Unzipping corpora/stopwords.zip.\n"
          ],
          "name": "stdout"
        }
      ]
    },
    {
      "cell_type": "code",
      "metadata": {
        "colab": {
          "base_uri": "https://localhost:8080/"
        },
        "id": "AED9A5etWITv",
        "outputId": "b8ef1ae1-997a-4645-ab75-d33bfa1b8592"
      },
      "source": [
        "#Model Building\n",
        "# import libraries\n",
        "from sklearn.feature_extraction.text import CountVectorizer\n",
        "from sklearn.model_selection import train_test_split\n",
        "\n",
        "# Instantiate count vectorizer\n",
        "cv = CountVectorizer(max_features=1500)\n",
        "\n",
        "# Independent variable\n",
        "X = cv.fit_transform(corpus).toarray()\n",
        "\n",
        "# dependent variable\n",
        "y = df['feedback']\n",
        "\n",
        "# Counts\n",
        "count = y.value_counts()\n",
        "print(count)"
      ],
      "execution_count": 13,
      "outputs": [
        {
          "output_type": "stream",
          "text": [
            "1    2308\n",
            "0     212\n",
            "Name: feedback, dtype: int64\n"
          ],
          "name": "stdout"
        }
      ]
    },
    {
      "cell_type": "code",
      "metadata": {
        "id": "PUVjNQr4WjHM"
      },
      "source": [
        "# Split the dataset\n",
        "X_train, X_test, y_train, y_test = train_test_split(X, y, test_size = 0.20, random_state = 0)\n"
      ],
      "execution_count": 14,
      "outputs": []
    },
    {
      "cell_type": "code",
      "metadata": {
        "colab": {
          "base_uri": "https://localhost:8080/"
        },
        "id": "_L3bn6SyWqOD",
        "outputId": "78fa17ad-e908-44e6-c40d-1059ae631827"
      },
      "source": [
        "# import packages\n",
        "from sklearn.ensemble import RandomForestClassifier\n",
        "from sklearn.metrics import accuracy_score, precision_score, recall_score, confusion_matrix, f1_score\n",
        "\n",
        "\n",
        "# Instantiate calssifier\n",
        "rf = RandomForestClassifier(random_state=2)\n",
        "\n",
        "# fit model on training data\n",
        "rf.fit(X_train, y_train)\n",
        "\n",
        "# predict on test data\n",
        "y_pred = rf.predict(X_test)\n",
        "\n",
        "# calculate the accuracy score\n",
        "score = accuracy_score(y_test, y_pred)\n",
        "\n",
        "# calculate the precision\n",
        "precision = precision_score(y_test, y_pred)\n",
        "\n",
        "\n",
        "# display 'score' and 'precision'\n",
        "print(score, precision)"
      ],
      "execution_count": 15,
      "outputs": [
        {
          "output_type": "stream",
          "text": [
            "0.9345238095238095 0.9383983572895277\n"
          ],
          "name": "stdout"
        }
      ]
    },
    {
      "cell_type": "code",
      "metadata": {
        "colab": {
          "base_uri": "https://localhost:8080/"
        },
        "id": "nikVJsV8XItY",
        "outputId": "c862f415-a4f1-4f59-d698-57f26f50248c"
      },
      "source": [
        "# import packages\n",
        "from imblearn.over_sampling import SMOTE\n",
        "\n",
        "# Instantiate smote\n",
        "smote = SMOTE(random_state=9)\n",
        "\n",
        "# fit_sample onm training data\n",
        "X_train, y_train = smote.fit_sample(X_train, y_train)\n",
        "\n",
        "# fit model on training data\n",
        "rf.fit(X_train, y_train)\n",
        "\n",
        "# predict on test data\n",
        "y_pred = rf.predict(X_test)\n",
        "\n",
        "# calculate the accuracy score\n",
        "score = accuracy_score(y_test, y_pred)\n",
        "\n",
        "# calculate the precision\n",
        "precision = precision_score(y_test, y_pred)\n",
        "\n",
        "# display precision and score\n",
        "print(score, precision)"
      ],
      "execution_count": 16,
      "outputs": [
        {
          "output_type": "stream",
          "text": [
            "0.8908730158730159 0.945054945054945\n"
          ],
          "name": "stdout"
        }
      ]
    },
    {
      "cell_type": "code",
      "metadata": {
        "colab": {
          "base_uri": "https://localhost:8080/",
          "height": 359
        },
        "id": "XRvrzzE_Y7M3",
        "outputId": "92a0d317-35c5-4db6-d532-7abdcb2d1f01"
      },
      "source": [
        "# Prediction on test data\n",
        "\n",
        "# Read the test data\n",
        "test = pd.read_csv('test.csv')\n",
        "test.head(10)"
      ],
      "execution_count": 23,
      "outputs": [
        {
          "output_type": "execute_result",
          "data": {
            "text/html": [
              "<div>\n",
              "<style scoped>\n",
              "    .dataframe tbody tr th:only-of-type {\n",
              "        vertical-align: middle;\n",
              "    }\n",
              "\n",
              "    .dataframe tbody tr th {\n",
              "        vertical-align: top;\n",
              "    }\n",
              "\n",
              "    .dataframe thead th {\n",
              "        text-align: right;\n",
              "    }\n",
              "</style>\n",
              "<table border=\"1\" class=\"dataframe\">\n",
              "  <thead>\n",
              "    <tr style=\"text-align: right;\">\n",
              "      <th></th>\n",
              "      <th>Id</th>\n",
              "      <th>rating</th>\n",
              "      <th>date</th>\n",
              "      <th>variation</th>\n",
              "      <th>verified_reviews</th>\n",
              "    </tr>\n",
              "  </thead>\n",
              "  <tbody>\n",
              "    <tr>\n",
              "      <th>0</th>\n",
              "      <td>2887</td>\n",
              "      <td>3</td>\n",
              "      <td>30-Jul-18</td>\n",
              "      <td>Black  Dot</td>\n",
              "      <td>No problems, works as expected. Could have a b...</td>\n",
              "    </tr>\n",
              "    <tr>\n",
              "      <th>1</th>\n",
              "      <td>1934</td>\n",
              "      <td>5</td>\n",
              "      <td>26-Jul-18</td>\n",
              "      <td>Black  Plus</td>\n",
              "      <td>Great , love it.</td>\n",
              "    </tr>\n",
              "    <tr>\n",
              "      <th>2</th>\n",
              "      <td>142</td>\n",
              "      <td>5</td>\n",
              "      <td>30-Jul-18</td>\n",
              "      <td>Charcoal Fabric</td>\n",
              "      <td>Great sound quality, great features, great pro...</td>\n",
              "    </tr>\n",
              "    <tr>\n",
              "      <th>3</th>\n",
              "      <td>1072</td>\n",
              "      <td>4</td>\n",
              "      <td>30-Jul-18</td>\n",
              "      <td>Black  Spot</td>\n",
              "      <td>Terrific sound for a small device, and nice fo...</td>\n",
              "    </tr>\n",
              "    <tr>\n",
              "      <th>4</th>\n",
              "      <td>2258</td>\n",
              "      <td>5</td>\n",
              "      <td>30-Jul-18</td>\n",
              "      <td>Configuration: Fire TV Stick</td>\n",
              "      <td>Use it all the time and love it. Very quality ...</td>\n",
              "    </tr>\n",
              "    <tr>\n",
              "      <th>5</th>\n",
              "      <td>1142</td>\n",
              "      <td>4</td>\n",
              "      <td>29-Jul-18</td>\n",
              "      <td>Black  Spot</td>\n",
              "      <td>Works decent, wish it was able to answer more ...</td>\n",
              "    </tr>\n",
              "    <tr>\n",
              "      <th>6</th>\n",
              "      <td>1116</td>\n",
              "      <td>5</td>\n",
              "      <td>30-Jul-18</td>\n",
              "      <td>Black  Spot</td>\n",
              "      <td>Great for checking in on my son after school w...</td>\n",
              "    </tr>\n",
              "    <tr>\n",
              "      <th>7</th>\n",
              "      <td>3042</td>\n",
              "      <td>5</td>\n",
              "      <td>30-Jul-18</td>\n",
              "      <td>White  Dot</td>\n",
              "      <td>Love the dot</td>\n",
              "    </tr>\n",
              "    <tr>\n",
              "      <th>8</th>\n",
              "      <td>2832</td>\n",
              "      <td>5</td>\n",
              "      <td>30-Jul-18</td>\n",
              "      <td>Black  Dot</td>\n",
              "      <td>Love my echo. Love playing music in my room</td>\n",
              "    </tr>\n",
              "    <tr>\n",
              "      <th>9</th>\n",
              "      <td>2626</td>\n",
              "      <td>5</td>\n",
              "      <td>30-Jul-18</td>\n",
              "      <td>White  Dot</td>\n",
              "      <td>I love to watch my wife argue with Alexa.  I w...</td>\n",
              "    </tr>\n",
              "  </tbody>\n",
              "</table>\n",
              "</div>"
            ],
            "text/plain": [
              "     Id  ...                                   verified_reviews\n",
              "0  2887  ...  No problems, works as expected. Could have a b...\n",
              "1  1934  ...                                   Great , love it.\n",
              "2   142  ...  Great sound quality, great features, great pro...\n",
              "3  1072  ...  Terrific sound for a small device, and nice fo...\n",
              "4  2258  ...  Use it all the time and love it. Very quality ...\n",
              "5  1142  ...  Works decent, wish it was able to answer more ...\n",
              "6  1116  ...  Great for checking in on my son after school w...\n",
              "7  3042  ...                                       Love the dot\n",
              "8  2832  ...        Love my echo. Love playing music in my room\n",
              "9  2626  ...  I love to watch my wife argue with Alexa.  I w...\n",
              "\n",
              "[10 rows x 5 columns]"
            ]
          },
          "metadata": {
            "tags": []
          },
          "execution_count": 23
        }
      ]
    },
    {
      "cell_type": "code",
      "metadata": {
        "id": "8a6VkLOTZCJZ"
      },
      "source": [
        "# Storing the id from the test file\n",
        "id_ = test['Id']"
      ],
      "execution_count": 24,
      "outputs": []
    },
    {
      "cell_type": "code",
      "metadata": {
        "id": "sThcd9VUZGIO"
      },
      "source": [
        "# Apply the transformations on test\n",
        "# Converting date attribute from string to datetime.date datatype \n",
        "test['date'] = pd.to_datetime(test['date'])\n",
        "\n",
        "# calculate the total length of word\n",
        "test['length'] = test['verified_reviews'].apply(len)"
      ],
      "execution_count": 25,
      "outputs": []
    },
    {
      "cell_type": "code",
      "metadata": {
        "id": "SPpVieXXZIpA"
      },
      "source": [
        "# declare empty list 'corpus'\n",
        "corpus=[]\n",
        "\n",
        "# for loop to fill in corpus\n",
        "for i in range(0,630):\n",
        "    # retain alphabets\n",
        "    review = re.sub('[^a-zA-Z]', ' ', test['verified_reviews'][i] )\n",
        "    # convert to lower case\n",
        "    review=review.lower()\n",
        "    # tokenize\n",
        "    review=review.split()\n",
        "    # initialize stemmer object\n",
        "    ps=PorterStemmer()\n",
        "    # perform stemming\n",
        "    review=[ps.stem(word) for word in review if not word in set(stopwords.words('english'))]\n",
        "    # join elements of list\n",
        "    review=' '.join(review)\n",
        "    # add to 'corpus'\n",
        "    corpus.append(review)\n",
        "    \n",
        "test = cv.transform(corpus).toarray()"
      ],
      "execution_count": 26,
      "outputs": []
    },
    {
      "cell_type": "code",
      "metadata": {
        "colab": {
          "base_uri": "https://localhost:8080/"
        },
        "id": "tTPmVHAFZL_B",
        "outputId": "08a614f2-9f0c-4a7d-ab58-427026c55c68"
      },
      "source": [
        "# predict on test data\n",
        "y_pred_test = rf.predict(test)\n",
        "\n",
        "y_pred_test = y_pred_test.flatten()\n",
        "\n",
        "# Create a sample submission file\n",
        "sample_submission = pd.DataFrame({'Id':id_,'feedback':y_pred_test})\n",
        "print(sample_submission.head(10))\n",
        "\n",
        "# Convert the sample submission file into a csv file\n",
        "sample_submission.to_csv('sample_submission_test.csv',index=False)"
      ],
      "execution_count": 27,
      "outputs": [
        {
          "output_type": "stream",
          "text": [
            "     Id  feedback\n",
            "0  2887         1\n",
            "1  1934         1\n",
            "2   142         1\n",
            "3  1072         1\n",
            "4  2258         1\n",
            "5  1142         1\n",
            "6  1116         1\n",
            "7  3042         1\n",
            "8  2832         1\n",
            "9  2626         1\n"
          ],
          "name": "stdout"
        }
      ]
    }
  ]
}